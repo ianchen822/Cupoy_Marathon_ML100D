{
 "cells": [
  {
   "cell_type": "markdown",
   "metadata": {},
   "source": [
    "### 作業\n",
    "請使用不同的資料集，並使用 hyper-parameter search 的方式，看能不能找出最佳的超參數組合"
   ]
  },
  {
   "cell_type": "code",
   "execution_count": 2,
   "metadata": {},
   "outputs": [],
   "source": [
    "from sklearn.datasets import load_breast_cancer\n",
    "from sklearn.ensemble import GradientBoostingClassifier\n",
    "from sklearn.model_selection import train_test_split, KFold, GridSearchCV\n",
    "from sklearn.metrics import accuracy_score"
   ]
  },
  {
   "cell_type": "code",
   "execution_count": 3,
   "metadata": {},
   "outputs": [
    {
     "name": "stdout",
     "output_type": "stream",
     "text": [
      "Accuracy :  0.9736842105263158\n"
     ]
    }
   ],
   "source": [
    "cancer = load_breast_cancer()\n",
    "x_train, x_test, y_train, y_test = train_test_split(cancer.data, cancer.target, test_size = 0.2, random_state = 5)\n",
    "\n",
    "clf = GradientBoostingClassifier()\n",
    "clf.fit(x_train, y_train)\n",
    "y_pred = clf.predict(x_test)\n",
    "print(\"Accuracy : \", accuracy_score(y_test, y_pred))"
   ]
  },
  {
   "cell_type": "code",
   "execution_count": 5,
   "metadata": {},
   "outputs": [
    {
     "name": "stdout",
     "output_type": "stream",
     "text": [
      "Fitting 5 folds for each of 125 candidates, totalling 625 fits\n",
      "Best score = 0.973626 using {'learning_rate': 0.1, 'max_depth': 1, 'n_estimators': 250}\n"
     ]
    }
   ],
   "source": [
    "# using grid search\n",
    "n_estimators = [50, 100, 150, 200, 250]\n",
    "max_depth = [1, 3, 5, 7, 9]\n",
    "learning_rate = [0.06, 0.08, 0.1, 0.2, 0.25]\n",
    "params_grid = dict(n_estimators = n_estimators, max_depth = max_depth, learning_rate = learning_rate)\n",
    "\n",
    "grid_search = GridSearchCV(clf, params_grid, scoring = \"accuracy\", n_jobs = -1, verbose = 1)\n",
    "grid_result = grid_search.fit(x_train, y_train)\n",
    "print(\"Best score = %f using %s\" % (grid_result.best_score_, grid_result.best_params_))"
   ]
  },
  {
   "cell_type": "code",
   "execution_count": 7,
   "metadata": {},
   "outputs": [
    {
     "name": "stdout",
     "output_type": "stream",
     "text": [
      "Accuracy with best params :  0.9736842105263158\n"
     ]
    }
   ],
   "source": [
    "clf_bestparam = GradientBoostingClassifier(n_estimators = grid_result.best_params_['n_estimators'],\n",
    "                                           max_depth = grid_result.best_params_['max_depth'],\n",
    "                                           learning_rate = grid_result.best_params_['learning_rate'])\n",
    "clf_bestparam.fit(x_train, y_train)\n",
    "y_pred = clf_bestparam.predict(x_test)\n",
    "print(\"Accuracy with best params : \", accuracy_score(y_test, y_pred))"
   ]
  },
  {
   "cell_type": "code",
   "execution_count": 9,
   "metadata": {},
   "outputs": [
    {
     "name": "stdout",
     "output_type": "stream",
     "text": [
      "Accuracy :  0.9166666666666666\n"
     ]
    }
   ],
   "source": [
    "from sklearn.datasets import load_wine\n",
    "wine = load_wine()\n",
    "\n",
    "x_train, x_test, y_train, y_test = train_test_split(wine.data, wine.target, test_size = 0.2, random_state = 5)\n",
    "clf = GradientBoostingClassifier()\n",
    "clf.fit(x_train, y_train)\n",
    "y_pred = clf.predict(x_test)\n",
    "print(\"Accuracy : \", accuracy_score(y_test, y_pred))"
   ]
  },
  {
   "cell_type": "code",
   "execution_count": 11,
   "metadata": {},
   "outputs": [
    {
     "name": "stdout",
     "output_type": "stream",
     "text": [
      "Fitting 5 folds for each of 125 candidates, totalling 625 fits\n",
      "Best score = 0.958128 using {'learning_rate': 0.05, 'max_depth': 1, 'n_estimators': 200}\n"
     ]
    }
   ],
   "source": [
    "# using grid search\n",
    "n_estimators = [150, 200, 250, 300, 350]\n",
    "learning_rate = [0.05, 0.1, 0.15, 0.2, 0.25]\n",
    "max_depth = [1, 3, 5, 7, 9]\n",
    "params_grid = dict(n_estimators = n_estimators, learning_rate = learning_rate, max_depth = max_depth)\n",
    "\n",
    "grid_search = GridSearchCV(clf, params_grid, scoring = \"accuracy\", n_jobs = -1, verbose = 1)\n",
    "grid_result = grid_search.fit(x_train, y_train)\n",
    "print(\"Best score = %f using %s\" % (grid_result.best_score_, grid_result.best_params_))"
   ]
  },
  {
   "cell_type": "code",
   "execution_count": 12,
   "metadata": {},
   "outputs": [
    {
     "name": "stdout",
     "output_type": "stream",
     "text": [
      "Accuracy with best params :  0.9722222222222222\n"
     ]
    }
   ],
   "source": [
    "clf_bestparams = GradientBoostingClassifier(n_estimators = grid_result.best_params_[\"n_estimators\"],\n",
    "                                            learning_rate = grid_result.best_params_[\"learning_rate\"],\n",
    "                                            max_depth = grid_result.best_params_[\"max_depth\"])\n",
    "clf_bestparams.fit(x_train, y_train)\n",
    "y_pred = clf_bestparams.predict(x_test)\n",
    "print(\"Accuracy with best params : \", accuracy_score(y_test, y_pred))"
   ]
  },
  {
   "cell_type": "code",
   "execution_count": null,
   "metadata": {},
   "outputs": [],
   "source": []
  }
 ],
 "metadata": {
  "kernelspec": {
   "display_name": "Python 3 (ipykernel)",
   "language": "python",
   "name": "python3"
  },
  "language_info": {
   "codemirror_mode": {
    "name": "ipython",
    "version": 3
   },
   "file_extension": ".py",
   "mimetype": "text/x-python",
   "name": "python",
   "nbconvert_exporter": "python",
   "pygments_lexer": "ipython3",
   "version": "3.9.7"
  }
 },
 "nbformat": 4,
 "nbformat_minor": 4
}
