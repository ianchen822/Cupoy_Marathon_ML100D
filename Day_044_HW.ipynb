{
 "cells": [
  {
   "cell_type": "markdown",
   "metadata": {},
   "source": [
    "## [作業重點]\n",
    "確保你了解隨機森林模型中每個超參數的意義，並觀察調整超參數對結果的影響"
   ]
  },
  {
   "cell_type": "markdown",
   "metadata": {},
   "source": [
    "## 作業\n",
    "\n",
    "1. 試著調整 RandomForestClassifier(...) 中的參數，並觀察是否會改變結果？\n",
    "2. 改用其他資料集 (boston, wine)，並與回歸模型與決策樹的結果進行比較"
   ]
  },
  {
   "cell_type": "code",
   "execution_count": 1,
   "metadata": {},
   "outputs": [],
   "source": [
    "from sklearn.datasets import load_boston, load_wine\n",
    "from sklearn.ensemble import RandomForestClassifier, RandomForestRegressor\n",
    "from sklearn.model_selection import train_test_split\n",
    "from sklearn.metrics import accuracy_score, mean_squared_error"
   ]
  },
  {
   "cell_type": "code",
   "execution_count": 3,
   "metadata": {},
   "outputs": [
    {
     "name": "stdout",
     "output_type": "stream",
     "text": [
      "模型1 Mean squared error :  17.509008823529417\n",
      "模型2 Mean squared error :  24.130045915754476\n",
      "模型3 Mean squared error :  20.419068347057635\n",
      "模型4 Mean squared error :  16.167273284313723\n"
     ]
    }
   ],
   "source": [
    "boston = load_boston()\n",
    "x_train, x_test, y_train, y_test = train_test_split(boston.data, boston.target, test_size = 0.2, random_state = 4)\n",
    "\n",
    "reg1 = RandomForestRegressor(n_estimators = 10)\n",
    "reg2 = RandomForestRegressor(n_estimators = 10, max_depth = 5)\n",
    "reg3 = RandomForestRegressor(n_estimators = 20, min_samples_leaf = 10)\n",
    "reg4 = RandomForestRegressor(n_estimators = 20, max_features = \"auto\")\n",
    "\n",
    "reg1.fit(x_train, y_train)\n",
    "reg2.fit(x_train, y_train)\n",
    "reg3.fit(x_train, y_train)\n",
    "reg4.fit(x_train, y_train)\n",
    "\n",
    "y_pred1 = reg1.predict(x_test)\n",
    "y_pred2 = reg2.predict(x_test)\n",
    "y_pred3 = reg3.predict(x_test)\n",
    "y_pred4 = reg4.predict(x_test)\n",
    "\n",
    "print(\"模型1 Mean squared error : \", mean_squared_error(y_test, y_pred1))\n",
    "print(\"模型2 Mean squared error : \", mean_squared_error(y_test, y_pred2))\n",
    "print(\"模型3 Mean squared error : \", mean_squared_error(y_test, y_pred3))\n",
    "print(\"模型4 Mean squared error : \", mean_squared_error(y_test, y_pred4))"
   ]
  },
  {
   "cell_type": "code",
   "execution_count": 6,
   "metadata": {},
   "outputs": [
    {
     "name": "stdout",
     "output_type": "stream",
     "text": [
      "模型1 Accuracy :  0.9722222222222222\n",
      "模型2 Accuracy :  1.0\n",
      "模型3 Accuracy :  1.0\n",
      "模型4 Accuracy :  1.0\n"
     ]
    }
   ],
   "source": [
    "wine = load_wine()\n",
    "x_train, x_test, y_train, y_test = train_test_split(wine.data, wine.target, test_size = 0.2, random_state = 4)\n",
    "\n",
    "clf1 = RandomForestClassifier(n_estimators = 10)\n",
    "clf2 = RandomForestClassifier(n_estimators = 10, max_depth = 5)\n",
    "clf3 = RandomForestClassifier(n_estimators = 20, min_samples_leaf = 10)\n",
    "clf4 = RandomForestClassifier(n_estimators = 20, max_features = \"auto\")\n",
    "\n",
    "clf1.fit(x_train, y_train)\n",
    "clf2.fit(x_train, y_train)\n",
    "clf3.fit(x_train, y_train)\n",
    "clf4.fit(x_train, y_train)\n",
    "\n",
    "y_pred1 = clf1.predict(x_test)\n",
    "y_pred2 = clf2.predict(x_test)\n",
    "y_pred3 = clf3.predict(x_test)\n",
    "y_pred4 = clf4.predict(x_test)\n",
    "\n",
    "print(\"模型1 Accuracy : \", accuracy_score(y_test, y_pred1))\n",
    "print(\"模型2 Accuracy : \", accuracy_score(y_test, y_pred2))\n",
    "print(\"模型3 Accuracy : \", accuracy_score(y_test, y_pred3))\n",
    "print(\"模型4 Accuracy : \", accuracy_score(y_test, y_pred4))"
   ]
  },
  {
   "cell_type": "code",
   "execution_count": null,
   "metadata": {},
   "outputs": [],
   "source": []
  }
 ],
 "metadata": {
  "kernelspec": {
   "display_name": "Python 3 (ipykernel)",
   "language": "python",
   "name": "python3"
  },
  "language_info": {
   "codemirror_mode": {
    "name": "ipython",
    "version": 3
   },
   "file_extension": ".py",
   "mimetype": "text/x-python",
   "name": "python",
   "nbconvert_exporter": "python",
   "pygments_lexer": "ipython3",
   "version": "3.9.7"
  }
 },
 "nbformat": 4,
 "nbformat_minor": 2
}
