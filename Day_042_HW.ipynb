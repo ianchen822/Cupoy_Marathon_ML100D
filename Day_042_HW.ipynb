{
 "cells": [
  {
   "cell_type": "markdown",
   "metadata": {},
   "source": [
    "## [作業重點]\n",
    "目前你應該已經要很清楚資料集中，資料的型態是什麼樣子囉！包含特徵 (features) 與標籤 (labels)。因此要記得未來不管什麼專案，必須要把資料清理成相同的格式，才能送進模型訓練。\n",
    "今天的作業開始踏入決策樹這個非常重要的模型，請務必確保你理解模型中每個超參數的意思，並試著調整看看，對最終預測結果的影響為何"
   ]
  },
  {
   "cell_type": "markdown",
   "metadata": {},
   "source": [
    "## 作業\n",
    "\n",
    "1. 試著調整 DecisionTreeClassifier(...) 中的參數，並觀察是否會改變結果？\n",
    "2. 改用其他資料集 (boston, wine)，並與回歸模型的結果進行比較"
   ]
  },
  {
   "cell_type": "code",
   "execution_count": 2,
   "metadata": {},
   "outputs": [],
   "source": [
    "from sklearn.datasets import load_boston, load_wine\n",
    "from sklearn.tree import DecisionTreeClassifier, DecisionTreeRegressor\n",
    "from sklearn.model_selection import train_test_split\n",
    "from sklearn.metrics import mean_squared_error, accuracy_score, f1_score"
   ]
  },
  {
   "cell_type": "code",
   "execution_count": 8,
   "metadata": {},
   "outputs": [
    {
     "name": "stdout",
     "output_type": "stream",
     "text": [
      "模型1 accuracy: 0.89\n",
      "模型2 accuracy: 0.61\n",
      "模型3 accuracy: 1.00\n",
      "模型4 accuracy: 0.83\n"
     ]
    }
   ],
   "source": [
    "wine = load_wine()\n",
    "x_train, x_test, y_train, y_test = train_test_split(wine.data, wine.target, test_size = 0.2, random_state = 4)\n",
    "\n",
    "# 建立模型\n",
    "clf1 = DecisionTreeClassifier(random_state = 4)\n",
    "clf2 = DecisionTreeClassifier(max_depth = 1, random_state = 4)\n",
    "clf3 = DecisionTreeClassifier(criterion = \"entropy\", min_samples_split = 2, random_state = 4)\n",
    "clf4 = DecisionTreeClassifier(criterion = \"gini\", min_samples_leaf = 10, random_state = 4)\n",
    "# 訓練模型\n",
    "clf1.fit(x_train, y_train)\n",
    "clf2.fit(x_train, y_train)\n",
    "clf3.fit(x_train, y_train)\n",
    "clf4.fit(x_train, y_train)\n",
    "# 進行預測\n",
    "y_pred1 = clf1.predict(x_test)\n",
    "y_pred2 = clf2.predict(x_test)\n",
    "y_pred3 = clf3.predict(x_test)\n",
    "y_pred4 = clf4.predict(x_test)\n",
    "# 評估模型\n",
    "print(\"模型1 accuracy: %.2f\" % accuracy_score(y_pred1, y_test))\n",
    "print(\"模型2 accuracy: %.2f\" % accuracy_score(y_pred2, y_test))\n",
    "print(\"模型3 accuracy: %.2f\" % accuracy_score(y_pred3, y_test))\n",
    "print(\"模型4 accuracy: %.2f\" % accuracy_score(y_pred4, y_test))"
   ]
  },
  {
   "cell_type": "code",
   "execution_count": 10,
   "metadata": {},
   "outputs": [
    {
     "name": "stdout",
     "output_type": "stream",
     "text": [
      "Mean squared error 25.16\n"
     ]
    }
   ],
   "source": [
    "boston = load_boston()\n",
    "x_train, x_test, y_train, y_test = train_test_split(boston.data, boston.target, test_size = 0.2, random_state = 4)\n",
    "\n",
    "# 建立樹回歸模型\n",
    "reg = DecisionTreeRegressor()\n",
    "# 訓練模型\n",
    "reg.fit(x_train, y_train)\n",
    "# 進行預測\n",
    "y_pred = reg.predict(x_test)\n",
    "# 評估模型\n",
    "print(\"Mean squared error %.2f\" % mean_squared_error(y_pred, y_test))"
   ]
  },
  {
   "cell_type": "code",
   "execution_count": null,
   "metadata": {},
   "outputs": [],
   "source": []
  }
 ],
 "metadata": {
  "kernelspec": {
   "display_name": "Python 3 (ipykernel)",
   "language": "python",
   "name": "python3"
  },
  "language_info": {
   "codemirror_mode": {
    "name": "ipython",
    "version": 3
   },
   "file_extension": ".py",
   "mimetype": "text/x-python",
   "name": "python",
   "nbconvert_exporter": "python",
   "pygments_lexer": "ipython3",
   "version": "3.9.7"
  }
 },
 "nbformat": 4,
 "nbformat_minor": 2
}
